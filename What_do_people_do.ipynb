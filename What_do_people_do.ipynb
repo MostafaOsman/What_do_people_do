{
 "cells": [
  {
   "cell_type": "code",
   "execution_count": 1,
   "id": "7db7cef5",
   "metadata": {},
   "outputs": [],
   "source": [
    "import numpy as np\n",
    "import pandas as pd\n",
    "import seaborn as sns\n",
    "import matplotlib.pyplot as plt"
   ]
  },
  {
   "cell_type": "code",
   "execution_count": 2,
   "id": "bf3c2885",
   "metadata": {},
   "outputs": [],
   "source": [
    "df= pd.read_csv(\"Time-Use-in-OECD-Countries-OECD.csv\")"
   ]
  },
  {
   "cell_type": "code",
   "execution_count": 3,
   "id": "ae949e79",
   "metadata": {},
   "outputs": [
    {
     "data": {
      "text/html": [
       "<div>\n",
       "<style scoped>\n",
       "    .dataframe tbody tr th:only-of-type {\n",
       "        vertical-align: middle;\n",
       "    }\n",
       "\n",
       "    .dataframe tbody tr th {\n",
       "        vertical-align: top;\n",
       "    }\n",
       "\n",
       "    .dataframe thead th {\n",
       "        text-align: right;\n",
       "    }\n",
       "</style>\n",
       "<table border=\"1\" class=\"dataframe\">\n",
       "  <thead>\n",
       "    <tr style=\"text-align: right;\">\n",
       "      <th></th>\n",
       "      <th>Country</th>\n",
       "      <th>Category</th>\n",
       "      <th>Time (minutes)</th>\n",
       "    </tr>\n",
       "  </thead>\n",
       "  <tbody>\n",
       "    <tr>\n",
       "      <th>0</th>\n",
       "      <td>Australia</td>\n",
       "      <td>Paid work</td>\n",
       "      <td>211</td>\n",
       "    </tr>\n",
       "    <tr>\n",
       "      <th>1</th>\n",
       "      <td>Austria</td>\n",
       "      <td>Paid work</td>\n",
       "      <td>280</td>\n",
       "    </tr>\n",
       "    <tr>\n",
       "      <th>2</th>\n",
       "      <td>Belgium</td>\n",
       "      <td>Paid work</td>\n",
       "      <td>194</td>\n",
       "    </tr>\n",
       "    <tr>\n",
       "      <th>3</th>\n",
       "      <td>Canada</td>\n",
       "      <td>Paid work</td>\n",
       "      <td>269</td>\n",
       "    </tr>\n",
       "    <tr>\n",
       "      <th>4</th>\n",
       "      <td>Denmark</td>\n",
       "      <td>Paid work</td>\n",
       "      <td>200</td>\n",
       "    </tr>\n",
       "  </tbody>\n",
       "</table>\n",
       "</div>"
      ],
      "text/plain": [
       "     Country   Category  Time (minutes)\n",
       "0  Australia  Paid work             211\n",
       "1    Austria  Paid work             280\n",
       "2    Belgium  Paid work             194\n",
       "3     Canada  Paid work             269\n",
       "4    Denmark  Paid work             200"
      ]
     },
     "execution_count": 3,
     "metadata": {},
     "output_type": "execute_result"
    }
   ],
   "source": [
    "df.head()"
   ]
  },
  {
   "cell_type": "code",
   "execution_count": 16,
   "id": "79142bcc",
   "metadata": {},
   "outputs": [
    {
     "data": {
      "text/plain": [
       "Index(['Country', 'Category', 'Time (minutes)'], dtype='object')"
      ]
     },
     "execution_count": 16,
     "metadata": {},
     "output_type": "execute_result"
    }
   ],
   "source": [
    "df.columns"
   ]
  },
  {
   "cell_type": "code",
   "execution_count": 10,
   "id": "b88a246b",
   "metadata": {},
   "outputs": [
    {
     "data": {
      "text/plain": [
       "{'Attending events',\n",
       " 'Care for household members ',\n",
       " 'Eating and drinking',\n",
       " 'Education',\n",
       " 'Housework',\n",
       " 'Other leisure activities',\n",
       " 'Other unpaid work & volunteering',\n",
       " 'Paid work',\n",
       " 'Personal care',\n",
       " 'Seeing friends',\n",
       " 'Shopping',\n",
       " 'Sleep',\n",
       " 'Sports',\n",
       " 'TV and Radio'}"
      ]
     },
     "execution_count": 10,
     "metadata": {},
     "output_type": "execute_result"
    }
   ],
   "source": [
    "set(df['Category'])"
   ]
  },
  {
   "cell_type": "code",
   "execution_count": 52,
   "id": "0e8391c5",
   "metadata": {},
   "outputs": [
    {
     "data": {
      "text/html": [
       "<div>\n",
       "<style scoped>\n",
       "    .dataframe tbody tr th:only-of-type {\n",
       "        vertical-align: middle;\n",
       "    }\n",
       "\n",
       "    .dataframe tbody tr th {\n",
       "        vertical-align: top;\n",
       "    }\n",
       "\n",
       "    .dataframe thead th {\n",
       "        text-align: right;\n",
       "    }\n",
       "</style>\n",
       "<table border=\"1\" class=\"dataframe\">\n",
       "  <thead>\n",
       "    <tr style=\"text-align: right;\">\n",
       "      <th></th>\n",
       "      <th>Country</th>\n",
       "      <th>Category</th>\n",
       "      <th>Time (minutes)</th>\n",
       "    </tr>\n",
       "  </thead>\n",
       "  <tbody>\n",
       "    <tr>\n",
       "      <th>47</th>\n",
       "      <td>Korea</td>\n",
       "      <td>Education</td>\n",
       "      <td>57</td>\n",
       "    </tr>\n",
       "    <tr>\n",
       "      <th>51</th>\n",
       "      <td>Mexico</td>\n",
       "      <td>Education</td>\n",
       "      <td>45</td>\n",
       "    </tr>\n",
       "    <tr>\n",
       "      <th>35</th>\n",
       "      <td>Belgium</td>\n",
       "      <td>Education</td>\n",
       "      <td>41</td>\n",
       "    </tr>\n",
       "    <tr>\n",
       "      <th>54</th>\n",
       "      <td>Norway</td>\n",
       "      <td>Education</td>\n",
       "      <td>40</td>\n",
       "    </tr>\n",
       "    <tr>\n",
       "      <th>42</th>\n",
       "      <td>Greece</td>\n",
       "      <td>Education</td>\n",
       "      <td>40</td>\n",
       "    </tr>\n",
       "    <tr>\n",
       "      <th>65</th>\n",
       "      <td>South Africa</td>\n",
       "      <td>Education</td>\n",
       "      <td>39</td>\n",
       "    </tr>\n",
       "    <tr>\n",
       "      <th>43</th>\n",
       "      <td>Hungary</td>\n",
       "      <td>Education</td>\n",
       "      <td>38</td>\n",
       "    </tr>\n",
       "    <tr>\n",
       "      <th>57</th>\n",
       "      <td>Slovenia</td>\n",
       "      <td>Education</td>\n",
       "      <td>38</td>\n",
       "    </tr>\n",
       "    <tr>\n",
       "      <th>46</th>\n",
       "      <td>Japan</td>\n",
       "      <td>Education</td>\n",
       "      <td>37</td>\n",
       "    </tr>\n",
       "    <tr>\n",
       "      <th>50</th>\n",
       "      <td>Luxembourg</td>\n",
       "      <td>Education</td>\n",
       "      <td>37</td>\n",
       "    </tr>\n",
       "  </tbody>\n",
       "</table>\n",
       "</div>"
      ],
      "text/plain": [
       "         Country   Category  Time (minutes)\n",
       "47         Korea  Education              57\n",
       "51        Mexico  Education              45\n",
       "35       Belgium  Education              41\n",
       "54       Norway   Education              40\n",
       "42        Greece  Education              40\n",
       "65  South Africa  Education              39\n",
       "43       Hungary  Education              38\n",
       "57      Slovenia  Education              38\n",
       "46         Japan  Education              37\n",
       "50    Luxembourg  Education              37"
      ]
     },
     "execution_count": 52,
     "metadata": {},
     "output_type": "execute_result"
    }
   ],
   "source": [
    "df_Eduction_top_10 = df[df['Category']=='Education'].sort_values(by='Time (minutes)',ascending=False)[:10]\n",
    "df_Eduction_top_10"
   ]
  },
  {
   "cell_type": "markdown",
   "id": "8b879af8",
   "metadata": {},
   "source": [
    "# Countries with the most time spent on Education"
   ]
  },
  {
   "cell_type": "code",
   "execution_count": 53,
   "id": "a89c3e27",
   "metadata": {},
   "outputs": [
    {
     "data": {
      "text/plain": [
       "<AxesSubplot:xlabel='Country', ylabel='Time (minutes)'>"
      ]
     },
     "execution_count": 53,
     "metadata": {},
     "output_type": "execute_result"
    },
    {
     "data": {
      "image/png": "[encoded data removed]",
      "text/plain": [
       "<Figure size 720x432 with 1 Axes>"
      ]
     },
     "metadata": {
      "needs_background": "light"
     },
     "output_type": "display_data"
    }
   ],
   "source": [
    "plt.figure(figsize=(10,6))\n",
    "sns.barplot(x='Country',y='Time (minutes)',data = df_Eduction_top_10,hue='Time (minutes)',palette = 'mako',dodge=False)"
   ]
  },
  {
   "cell_type": "markdown",
   "id": "7ccbed97",
   "metadata": {},
   "source": [
    "Obviously, people in  korea spends the most time on education, no surprise as Korea is one the most educated countries worldwide"
   ]
  },
  {
   "cell_type": "markdown",
   "id": "af5965d1",
   "metadata": {},
   "source": [
    "# Countries with the most time spent on unpaid work and volunteering"
   ]
  },
  {
   "cell_type": "code",
   "execution_count": 61,
   "id": "caa742b0",
   "metadata": {},
   "outputs": [
    {
     "data": {
      "text/html": [
       "<div>\n",
       "<style scoped>\n",
       "    .dataframe tbody tr th:only-of-type {\n",
       "        vertical-align: middle;\n",
       "    }\n",
       "\n",
       "    .dataframe tbody tr th {\n",
       "        vertical-align: top;\n",
       "    }\n",
       "\n",
       "    .dataframe thead th {\n",
       "        text-align: right;\n",
       "    }\n",
       "</style>\n",
       "<table border=\"1\" class=\"dataframe\">\n",
       "  <thead>\n",
       "    <tr style=\"text-align: right;\">\n",
       "      <th></th>\n",
       "      <th>Country</th>\n",
       "      <th>Category</th>\n",
       "      <th>Time (minutes)</th>\n",
       "    </tr>\n",
       "  </thead>\n",
       "  <tbody>\n",
       "    <tr>\n",
       "      <th>178</th>\n",
       "      <td>Japan</td>\n",
       "      <td>Other unpaid work &amp; volunteering</td>\n",
       "      <td>98</td>\n",
       "    </tr>\n",
       "    <tr>\n",
       "      <th>171</th>\n",
       "      <td>Finland</td>\n",
       "      <td>Other unpaid work &amp; volunteering</td>\n",
       "      <td>81</td>\n",
       "    </tr>\n",
       "    <tr>\n",
       "      <th>186</th>\n",
       "      <td>Norway</td>\n",
       "      <td>Other unpaid work &amp; volunteering</td>\n",
       "      <td>77</td>\n",
       "    </tr>\n",
       "    <tr>\n",
       "      <th>176</th>\n",
       "      <td>Ireland</td>\n",
       "      <td>Other unpaid work &amp; volunteering</td>\n",
       "      <td>72</td>\n",
       "    </tr>\n",
       "    <tr>\n",
       "      <th>194</th>\n",
       "      <td>USA</td>\n",
       "      <td>Other unpaid work &amp; volunteering</td>\n",
       "      <td>65</td>\n",
       "    </tr>\n",
       "    <tr>\n",
       "      <th>193</th>\n",
       "      <td>UK</td>\n",
       "      <td>Other unpaid work &amp; volunteering</td>\n",
       "      <td>62</td>\n",
       "    </tr>\n",
       "    <tr>\n",
       "      <th>192</th>\n",
       "      <td>Turkey</td>\n",
       "      <td>Other unpaid work &amp; volunteering</td>\n",
       "      <td>60</td>\n",
       "    </tr>\n",
       "    <tr>\n",
       "      <th>185</th>\n",
       "      <td>New Zealand</td>\n",
       "      <td>Other unpaid work &amp; volunteering</td>\n",
       "      <td>59</td>\n",
       "    </tr>\n",
       "    <tr>\n",
       "      <th>165</th>\n",
       "      <td>Australia</td>\n",
       "      <td>Other unpaid work &amp; volunteering</td>\n",
       "      <td>58</td>\n",
       "    </tr>\n",
       "    <tr>\n",
       "      <th>190</th>\n",
       "      <td>Spain</td>\n",
       "      <td>Other unpaid work &amp; volunteering</td>\n",
       "      <td>54</td>\n",
       "    </tr>\n",
       "  </tbody>\n",
       "</table>\n",
       "</div>"
      ],
      "text/plain": [
       "         Country                          Category  Time (minutes)\n",
       "178        Japan  Other unpaid work & volunteering              98\n",
       "171      Finland  Other unpaid work & volunteering              81\n",
       "186      Norway   Other unpaid work & volunteering              77\n",
       "176      Ireland  Other unpaid work & volunteering              72\n",
       "194          USA  Other unpaid work & volunteering              65\n",
       "193           UK  Other unpaid work & volunteering              62\n",
       "192       Turkey  Other unpaid work & volunteering              60\n",
       "185  New Zealand  Other unpaid work & volunteering              59\n",
       "165    Australia  Other unpaid work & volunteering              58\n",
       "190        Spain  Other unpaid work & volunteering              54"
      ]
     },
     "execution_count": 61,
     "metadata": {},
     "output_type": "execute_result"
    }
   ],
   "source": [
    "df_voluntary_work = df[df['Category']=='Other unpaid work & volunteering'].sort_values(by='Time (minutes)',ascending=False)[:10]\n",
    "df_voluntary_work"
   ]
  },
  {
   "cell_type": "code",
   "execution_count": 64,
   "id": "aa4b97b3",
   "metadata": {},
   "outputs": [
    {
     "data": {
      "text/plain": [
       "<AxesSubplot:xlabel='Country', ylabel='Time (minutes)'>"
      ]
     },
     "execution_count": 64,
     "metadata": {},
     "output_type": "execute_result"
    },
    {
     "data": {
      "image/png": "[encoded data removed]",
      "text/plain": [
       "<Figure size 720x432 with 1 Axes>"
      ]
     },
     "metadata": {
      "needs_background": "light"
     },
     "output_type": "display_data"
    }
   ],
   "source": [
    "plt.figure(figsize=(10,6))\n",
    "sns.barplot(x='Country',y='Time (minutes)',data=df_voluntary_work, hue='Time (minutes)',dodge=False,palette='Blues')"
   ]
  },
  {
   "cell_type": "markdown",
   "id": "fca7fddf",
   "metadata": {},
   "source": [
    "Japan, Finland & Norway are the top most countries with time spent on voluntary work. This might come from the idea that these countries have high gdp per capita, where the standard of living is high which might be reason that people might afford to do voluntary work from time to time. "
   ]
  },
  {
   "cell_type": "markdown",
   "id": "2ce39562",
   "metadata": {},
   "source": [
    "# Countries with the most time spent on unpaid work and volunteering"
   ]
  },
  {
   "cell_type": "code",
   "execution_count": 70,
   "id": "7d7d0212",
   "metadata": {},
   "outputs": [
    {
     "data": {
      "text/html": [
       "<div>\n",
       "<style scoped>\n",
       "    .dataframe tbody tr th:only-of-type {\n",
       "        vertical-align: middle;\n",
       "    }\n",
       "\n",
       "    .dataframe tbody tr th {\n",
       "        vertical-align: top;\n",
       "    }\n",
       "\n",
       "    .dataframe thead th {\n",
       "        text-align: right;\n",
       "    }\n",
       "</style>\n",
       "<table border=\"1\" class=\"dataframe\">\n",
       "  <thead>\n",
       "    <tr style=\"text-align: right;\">\n",
       "      <th></th>\n",
       "      <th>Country</th>\n",
       "      <th>Category</th>\n",
       "      <th>Time (minutes)</th>\n",
       "    </tr>\n",
       "  </thead>\n",
       "  <tbody>\n",
       "    <tr>\n",
       "      <th>322</th>\n",
       "      <td>Spain</td>\n",
       "      <td>Sports</td>\n",
       "      <td>42</td>\n",
       "    </tr>\n",
       "    <tr>\n",
       "      <th>309</th>\n",
       "      <td>Italy</td>\n",
       "      <td>Sports</td>\n",
       "      <td>38</td>\n",
       "    </tr>\n",
       "    <tr>\n",
       "      <th>303</th>\n",
       "      <td>Finland</td>\n",
       "      <td>Sports</td>\n",
       "      <td>37</td>\n",
       "    </tr>\n",
       "    <tr>\n",
       "      <th>323</th>\n",
       "      <td>Sweden</td>\n",
       "      <td>Sports</td>\n",
       "      <td>34</td>\n",
       "    </tr>\n",
       "    <tr>\n",
       "      <th>314</th>\n",
       "      <td>Luxembourg</td>\n",
       "      <td>Sports</td>\n",
       "      <td>33</td>\n",
       "    </tr>\n",
       "    <tr>\n",
       "      <th>298</th>\n",
       "      <td>Austria</td>\n",
       "      <td>Sports</td>\n",
       "      <td>32</td>\n",
       "    </tr>\n",
       "    <tr>\n",
       "      <th>321</th>\n",
       "      <td>Slovenia</td>\n",
       "      <td>Sports</td>\n",
       "      <td>32</td>\n",
       "    </tr>\n",
       "    <tr>\n",
       "      <th>306</th>\n",
       "      <td>Greece</td>\n",
       "      <td>Sports</td>\n",
       "      <td>28</td>\n",
       "    </tr>\n",
       "    <tr>\n",
       "      <th>302</th>\n",
       "      <td>Estonia</td>\n",
       "      <td>Sports</td>\n",
       "      <td>27</td>\n",
       "    </tr>\n",
       "    <tr>\n",
       "      <th>311</th>\n",
       "      <td>Korea</td>\n",
       "      <td>Sports</td>\n",
       "      <td>27</td>\n",
       "    </tr>\n",
       "  </tbody>\n",
       "</table>\n",
       "</div>"
      ],
      "text/plain": [
       "        Country Category  Time (minutes)\n",
       "322       Spain   Sports              42\n",
       "309      Italy    Sports              38\n",
       "303     Finland   Sports              37\n",
       "323      Sweden   Sports              34\n",
       "314  Luxembourg   Sports              33\n",
       "298     Austria   Sports              32\n",
       "321    Slovenia   Sports              32\n",
       "306      Greece   Sports              28\n",
       "302     Estonia   Sports              27\n",
       "311       Korea   Sports              27"
      ]
     },
     "execution_count": 70,
     "metadata": {},
     "output_type": "execute_result"
    }
   ],
   "source": [
    "df_sports = df[df['Category']=='Sports'].sort_values(by='Time (minutes)',ascending= False)[:10]\n",
    "df_sports"
   ]
  },
  {
   "cell_type": "code",
   "execution_count": 72,
   "id": "7fd1377e",
   "metadata": {},
   "outputs": [
    {
     "data": {
      "text/plain": [
       "<AxesSubplot:xlabel='Country', ylabel='Time (minutes)'>"
      ]
     },
     "execution_count": 72,
     "metadata": {},
     "output_type": "execute_result"
    },
    {
     "data": {
      "image/png": "[encoded data removed]",
      "text/plain": [
       "<Figure size 720x432 with 1 Axes>"
      ]
     },
     "metadata": {
      "needs_background": "light"
     },
     "output_type": "display_data"
    }
   ],
   "source": [
    "plt.figure(figsize=(10,6))\n",
    "sns.barplot(x='Country',y='Time (minutes)',data=df_sports,hue='Time (minutes)',palette='YlOrBr',dodge = False)"
   ]
  },
  {
   "cell_type": "markdown",
   "id": "2e74f8e3",
   "metadata": {},
   "source": [
    "Spain and italy are the most countries with time spent on sports. No doubt, they have one of the best players in the world in different sports such as: Football, basketball, tennis and handball."
   ]
  },
  {
   "cell_type": "code",
   "execution_count": 82,
   "id": "0f84d2a0",
   "metadata": {},
   "outputs": [
    {
     "data": {
      "text/plain": [
       "True"
      ]
     },
     "execution_count": 82,
     "metadata": {},
     "output_type": "execute_result"
    }
   ],
   "source": [
    "'Estonia' in df['Country'].values"
   ]
  },
  {
   "cell_type": "markdown",
   "id": "507e2d13",
   "metadata": {},
   "source": [
    "# What do people in Poland Mostly do?"
   ]
  },
  {
   "cell_type": "code",
   "execution_count": 93,
   "id": "dbd87688",
   "metadata": {},
   "outputs": [
    {
     "data": {
      "text/html": [
       "<div>\n",
       "<style scoped>\n",
       "    .dataframe tbody tr th:only-of-type {\n",
       "        vertical-align: middle;\n",
       "    }\n",
       "\n",
       "    .dataframe tbody tr th {\n",
       "        vertical-align: top;\n",
       "    }\n",
       "\n",
       "    .dataframe thead th {\n",
       "        text-align: right;\n",
       "    }\n",
       "</style>\n",
       "<table border=\"1\" class=\"dataframe\">\n",
       "  <thead>\n",
       "    <tr style=\"text-align: right;\">\n",
       "      <th></th>\n",
       "      <th>Country</th>\n",
       "      <th>Category</th>\n",
       "      <th>Time (minutes)</th>\n",
       "    </tr>\n",
       "  </thead>\n",
       "  <tbody>\n",
       "    <tr>\n",
       "      <th>220</th>\n",
       "      <td>Poland</td>\n",
       "      <td>Sleep</td>\n",
       "      <td>509</td>\n",
       "    </tr>\n",
       "    <tr>\n",
       "      <th>22</th>\n",
       "      <td>Poland</td>\n",
       "      <td>Paid work</td>\n",
       "      <td>229</td>\n",
       "    </tr>\n",
       "    <tr>\n",
       "      <th>121</th>\n",
       "      <td>Poland</td>\n",
       "      <td>Housework</td>\n",
       "      <td>135</td>\n",
       "    </tr>\n",
       "    <tr>\n",
       "      <th>417</th>\n",
       "      <td>Poland</td>\n",
       "      <td>TV and Radio</td>\n",
       "      <td>122</td>\n",
       "    </tr>\n",
       "    <tr>\n",
       "      <th>450</th>\n",
       "      <td>Poland</td>\n",
       "      <td>Other leisure activities</td>\n",
       "      <td>93</td>\n",
       "    </tr>\n",
       "    <tr>\n",
       "      <th>253</th>\n",
       "      <td>Poland</td>\n",
       "      <td>Eating and drinking</td>\n",
       "      <td>91</td>\n",
       "    </tr>\n",
       "    <tr>\n",
       "      <th>286</th>\n",
       "      <td>Poland</td>\n",
       "      <td>Personal care</td>\n",
       "      <td>57</td>\n",
       "    </tr>\n",
       "    <tr>\n",
       "      <th>384</th>\n",
       "      <td>Poland</td>\n",
       "      <td>Seeing friends</td>\n",
       "      <td>45</td>\n",
       "    </tr>\n",
       "    <tr>\n",
       "      <th>187</th>\n",
       "      <td>Poland</td>\n",
       "      <td>Other unpaid work &amp; volunteering</td>\n",
       "      <td>39</td>\n",
       "    </tr>\n",
       "    <tr>\n",
       "      <th>88</th>\n",
       "      <td>Poland</td>\n",
       "      <td>Care for household members</td>\n",
       "      <td>38</td>\n",
       "    </tr>\n",
       "    <tr>\n",
       "      <th>55</th>\n",
       "      <td>Poland</td>\n",
       "      <td>Education</td>\n",
       "      <td>30</td>\n",
       "    </tr>\n",
       "    <tr>\n",
       "      <th>154</th>\n",
       "      <td>Poland</td>\n",
       "      <td>Shopping</td>\n",
       "      <td>25</td>\n",
       "    </tr>\n",
       "    <tr>\n",
       "      <th>319</th>\n",
       "      <td>Poland</td>\n",
       "      <td>Sports</td>\n",
       "      <td>23</td>\n",
       "    </tr>\n",
       "    <tr>\n",
       "      <th>351</th>\n",
       "      <td>Poland</td>\n",
       "      <td>Attending events</td>\n",
       "      <td>3</td>\n",
       "    </tr>\n",
       "  </tbody>\n",
       "</table>\n",
       "</div>"
      ],
      "text/plain": [
       "    Country                          Category  Time (minutes)\n",
       "220  Poland                             Sleep             509\n",
       "22   Poland                         Paid work             229\n",
       "121  Poland                         Housework             135\n",
       "417  Poland                      TV and Radio             122\n",
       "450  Poland          Other leisure activities              93\n",
       "253  Poland               Eating and drinking              91\n",
       "286  Poland                     Personal care              57\n",
       "384  Poland                    Seeing friends              45\n",
       "187  Poland  Other unpaid work & volunteering              39\n",
       "88   Poland       Care for household members               38\n",
       "55   Poland                         Education              30\n",
       "154  Poland                          Shopping              25\n",
       "319  Poland                            Sports              23\n",
       "351  Poland                  Attending events               3"
      ]
     },
     "execution_count": 93,
     "metadata": {},
     "output_type": "execute_result"
    }
   ],
   "source": [
    "df_poland = df[df['Country']=='Poland'].sort_values(by='Time (minutes)',ascending= False)\n",
    "df_poland"
   ]
  },
  {
   "cell_type": "code",
   "execution_count": 97,
   "id": "e0358243",
   "metadata": {},
   "outputs": [
    {
     "data": {
      "text/plain": [
       "<AxesSubplot:xlabel='Category', ylabel='Time (minutes)'>"
      ]
     },
     "execution_count": 97,
     "metadata": {},
     "output_type": "execute_result"
    },
    {
     "data": {
      "image/png": "[encoded data removed]",
      "text/plain": [
       "<Figure size 1008x432 with 1 Axes>"
      ]
     },
     "metadata": {
      "needs_background": "light"
     },
     "output_type": "display_data"
    }
   ],
   "source": [
    "plt.figure(figsize=(14,6))\n",
    "plt.xticks(rotation='vertical')\n",
    "sns.barplot(x='Category',y='Time (minutes)',data=df_poland,hue='Time (minutes)',palette='dark:salmon_r',dodge = False)"
   ]
  },
  {
   "cell_type": "markdown",
   "id": "05ea6a96",
   "metadata": {},
   "source": [
    "People in Poland mostly Work, do housework, watch TV/Listen to Radio. This might be due to the low income compared to other western european countries."
   ]
  },
  {
   "cell_type": "markdown",
   "id": "49a33b1b",
   "metadata": {},
   "source": [
    "# How do the Scandinavian countries mostly spend their time "
   ]
  },
  {
   "cell_type": "code",
   "execution_count": 142,
   "id": "1b91fae0",
   "metadata": {},
   "outputs": [],
   "source": [
    "df_Scandinavian = df[df['Country'].isin(['Finalnd','Sweden','Denmark'])].groupby('Category',as_index=False).mean().sort_values(by='Time (minutes)',ascending = False)"
   ]
  },
  {
   "cell_type": "code",
   "execution_count": 143,
   "id": "9b724e12",
   "metadata": {},
   "outputs": [
    {
     "data": {
      "text/html": [
       "<div>\n",
       "<style scoped>\n",
       "    .dataframe tbody tr th:only-of-type {\n",
       "        vertical-align: middle;\n",
       "    }\n",
       "\n",
       "    .dataframe tbody tr th {\n",
       "        vertical-align: top;\n",
       "    }\n",
       "\n",
       "    .dataframe thead th {\n",
       "        text-align: right;\n",
       "    }\n",
       "</style>\n",
       "<table border=\"1\" class=\"dataframe\">\n",
       "  <thead>\n",
       "    <tr style=\"text-align: right;\">\n",
       "      <th></th>\n",
       "      <th>Category</th>\n",
       "      <th>Time (minutes)</th>\n",
       "    </tr>\n",
       "  </thead>\n",
       "  <tbody>\n",
       "    <tr>\n",
       "      <th>11</th>\n",
       "      <td>Sleep</td>\n",
       "      <td>486.0</td>\n",
       "    </tr>\n",
       "    <tr>\n",
       "      <th>7</th>\n",
       "      <td>Paid work</td>\n",
       "      <td>231.0</td>\n",
       "    </tr>\n",
       "    <tr>\n",
       "      <th>13</th>\n",
       "      <td>TV and Radio</td>\n",
       "      <td>118.0</td>\n",
       "    </tr>\n",
       "    <tr>\n",
       "      <th>4</th>\n",
       "      <td>Housework</td>\n",
       "      <td>117.5</td>\n",
       "    </tr>\n",
       "    <tr>\n",
       "      <th>5</th>\n",
       "      <td>Other leisure activities</td>\n",
       "      <td>103.5</td>\n",
       "    </tr>\n",
       "    <tr>\n",
       "      <th>2</th>\n",
       "      <td>Eating and drinking</td>\n",
       "      <td>101.0</td>\n",
       "    </tr>\n",
       "    <tr>\n",
       "      <th>9</th>\n",
       "      <td>Seeing friends</td>\n",
       "      <td>67.0</td>\n",
       "    </tr>\n",
       "    <tr>\n",
       "      <th>8</th>\n",
       "      <td>Personal care</td>\n",
       "      <td>54.5</td>\n",
       "    </tr>\n",
       "    <tr>\n",
       "      <th>6</th>\n",
       "      <td>Other unpaid work &amp; volunteering</td>\n",
       "      <td>39.0</td>\n",
       "    </tr>\n",
       "    <tr>\n",
       "      <th>1</th>\n",
       "      <td>Care for household members</td>\n",
       "      <td>30.5</td>\n",
       "    </tr>\n",
       "    <tr>\n",
       "      <th>3</th>\n",
       "      <td>Education</td>\n",
       "      <td>28.0</td>\n",
       "    </tr>\n",
       "    <tr>\n",
       "      <th>12</th>\n",
       "      <td>Sports</td>\n",
       "      <td>28.0</td>\n",
       "    </tr>\n",
       "    <tr>\n",
       "      <th>10</th>\n",
       "      <td>Shopping</td>\n",
       "      <td>24.5</td>\n",
       "    </tr>\n",
       "    <tr>\n",
       "      <th>0</th>\n",
       "      <td>Attending events</td>\n",
       "      <td>8.0</td>\n",
       "    </tr>\n",
       "  </tbody>\n",
       "</table>\n",
       "</div>"
      ],
      "text/plain": [
       "                            Category  Time (minutes)\n",
       "11                             Sleep           486.0\n",
       "7                          Paid work           231.0\n",
       "13                      TV and Radio           118.0\n",
       "4                          Housework           117.5\n",
       "5           Other leisure activities           103.5\n",
       "2                Eating and drinking           101.0\n",
       "9                     Seeing friends            67.0\n",
       "8                      Personal care            54.5\n",
       "6   Other unpaid work & volunteering            39.0\n",
       "1        Care for household members             30.5\n",
       "3                          Education            28.0\n",
       "12                            Sports            28.0\n",
       "10                          Shopping            24.5\n",
       "0                   Attending events             8.0"
      ]
     },
     "execution_count": 143,
     "metadata": {},
     "output_type": "execute_result"
    }
   ],
   "source": [
    "df_Scandinavian"
   ]
  },
  {
   "cell_type": "code",
   "execution_count": 144,
   "id": "fd033615",
   "metadata": {},
   "outputs": [
    {
     "data": {
      "text/plain": [
       "Index(['Category', 'Time (minutes)'], dtype='object')"
      ]
     },
     "execution_count": 144,
     "metadata": {},
     "output_type": "execute_result"
    }
   ],
   "source": [
    "df_Scandinavian.columns"
   ]
  },
  {
   "cell_type": "code",
   "execution_count": 146,
   "id": "14747f65",
   "metadata": {},
   "outputs": [
    {
     "data": {
      "text/plain": [
       "<AxesSubplot:xlabel='Category', ylabel='Time (minutes)'>"
      ]
     },
     "execution_count": 146,
     "metadata": {},
     "output_type": "execute_result"
    },
    {
     "data": {
      "image/png": "[encoded data removed]",
      "text/plain": [
       "<Figure size 864x432 with 1 Axes>"
      ]
     },
     "metadata": {
      "needs_background": "light"
     },
     "output_type": "display_data"
    }
   ],
   "source": [
    "plt.figure(figsize=(12,6))\n",
    "plt.xticks(rotation='vertical')\n",
    "sns.barplot(x='Category',y='Time (minutes)',data=df_Scandinavian,hue='Time (minutes)',palette= 'Blues',dodge=False)"
   ]
  },
  {
   "cell_type": "markdown",
   "id": "7b9bd36a",
   "metadata": {},
   "source": [
    "Surprisingly, The traits of poland isn't much different from scandinavian countries as both have a lot of things in common regarding time spent on certain activites. Both scandinavian countires and poland mostly spend time sleeping, working, Watch Tv, and doing housework. Moreover, leisure activites comes in the fifth place for both as well. Furthermore, both are bad at attending events. Therefore, one can say that Eastern European Countries such as poland and scandinavian countires have almost the same way of spending time.    "
   ]
  },
  {
   "cell_type": "code",
   "execution_count": null,
   "id": "575a0efb",
   "metadata": {},
   "outputs": [],
   "source": []
  }
 ],
 "metadata": {
  "kernelspec": {
   "display_name": "Python 3 (ipykernel)",
   "language": "python",
   "name": "python3"
  },
  "language_info": {
   "codemirror_mode": {
    "name": "ipython",
    "version": 3
   },
   "file_extension": ".py",
   "mimetype": "text/x-python",
   "name": "python",
   "nbconvert_exporter": "python",
   "pygments_lexer": "ipython3",
   "version": "3.9.7"
  }
 },
 "nbformat": 4,
 "nbformat_minor": 5
}
